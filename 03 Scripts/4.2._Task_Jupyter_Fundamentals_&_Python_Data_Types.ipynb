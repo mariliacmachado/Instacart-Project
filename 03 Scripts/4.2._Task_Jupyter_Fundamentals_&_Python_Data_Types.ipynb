{
 "cells": [
  {
   "cell_type": "markdown",
   "id": "86f370d6-420d-42f8-ba49-c628af61918d",
   "metadata": {},
   "source": [
    "# TASK 4.2. \n",
    "# Table of Contents\n",
    "## 1. Importing Libraries\n",
    "## 2. Data Types\n",
    "### 2.1. Several mathematical operations to get familiar with different data types\n",
    "### 2.2. Creating sentences and words using strings\n",
    "### 2.3. Bonus Task"
   ]
  },
  {
   "cell_type": "markdown",
   "id": "462efe04-10ba-464d-972e-26768bd513c7",
   "metadata": {},
   "source": [
    "## 1. Importing Libraries"
   ]
  },
  {
   "cell_type": "code",
   "execution_count": 2,
   "id": "9dfba886-2bee-4339-8d72-95ff594a4778",
   "metadata": {},
   "outputs": [],
   "source": [
    "# Import libraries\n",
    "import pandas as pd\n",
    "import numpy as np\n",
    "import os"
   ]
  },
  {
   "cell_type": "markdown",
   "id": "8a9c0e62-96de-43ba-8e30-13a619f56330",
   "metadata": {},
   "source": [
    "## 2. Data Types"
   ]
  },
  {
   "cell_type": "markdown",
   "id": "f78aae17-27a7-4c92-aae4-a760b116f7a9",
   "metadata": {},
   "source": [
    "### 2.1. Several mathematical operations to get familiar with different data types"
   ]
  },
  {
   "cell_type": "markdown",
   "id": "18ca4784-3e42-4ede-8571-670d8ac68f3a",
   "metadata": {},
   "source": [
    "Code 3 different ways of reaching a result of 100 by adding or subtracting numeric variables."
   ]
  },
  {
   "cell_type": "code",
   "execution_count": 4,
   "id": "38f9f75d-3a97-4a39-a8cb-4ba12a8993f5",
   "metadata": {},
   "outputs": [],
   "source": [
    "x = 40"
   ]
  },
  {
   "cell_type": "code",
   "execution_count": 6,
   "id": "1ae07375-8619-4b7d-a67b-9d8ea3ea7dbb",
   "metadata": {},
   "outputs": [],
   "source": [
    "y = 60"
   ]
  },
  {
   "cell_type": "code",
   "execution_count": 8,
   "id": "f8cae212-fe42-4ac8-8d82-92e209570ad2",
   "metadata": {},
   "outputs": [
    {
     "data": {
      "text/plain": [
       "100"
      ]
     },
     "execution_count": 8,
     "metadata": {},
     "output_type": "execute_result"
    }
   ],
   "source": [
    "x + y"
   ]
  },
  {
   "cell_type": "code",
   "execution_count": 18,
   "id": "f42581f3-7371-48ce-82b8-f0866f2c7733",
   "metadata": {},
   "outputs": [],
   "source": [
    "a = 120"
   ]
  },
  {
   "cell_type": "code",
   "execution_count": 20,
   "id": "8d8c0b57-cd29-4bf8-9f5f-9b771c0bab0c",
   "metadata": {},
   "outputs": [],
   "source": [
    "b = 20"
   ]
  },
  {
   "cell_type": "code",
   "execution_count": 22,
   "id": "6cfce52f-7294-4214-923f-97cbaaaa99c3",
   "metadata": {},
   "outputs": [
    {
     "data": {
      "text/plain": [
       "100"
      ]
     },
     "execution_count": 22,
     "metadata": {},
     "output_type": "execute_result"
    }
   ],
   "source": [
    "a - b"
   ]
  },
  {
   "cell_type": "code",
   "execution_count": 24,
   "id": "7dda25e0-5ad6-469c-a124-afcea69165f3",
   "metadata": {},
   "outputs": [
    {
     "data": {
      "text/plain": [
       "100"
      ]
     },
     "execution_count": 24,
     "metadata": {},
     "output_type": "execute_result"
    }
   ],
   "source": [
    "x + x + b"
   ]
  },
  {
   "cell_type": "markdown",
   "id": "d8e66215-8488-45a3-8b21-98cfff4d5b67",
   "metadata": {},
   "source": [
    "Code 2 floating-point variables and divide them by each other."
   ]
  },
  {
   "cell_type": "code",
   "execution_count": 42,
   "id": "6284a381-3548-4c99-99ad-f1a3dfddb995",
   "metadata": {},
   "outputs": [],
   "source": [
    "c = 1.5"
   ]
  },
  {
   "cell_type": "code",
   "execution_count": 44,
   "id": "f69cdda0-5e8b-469e-8cfa-b7513354cb97",
   "metadata": {},
   "outputs": [],
   "source": [
    "d = 3.4"
   ]
  },
  {
   "cell_type": "code",
   "execution_count": 46,
   "id": "eda5f5d2-69ab-4e8c-a58f-e2418791f64c",
   "metadata": {},
   "outputs": [
    {
     "data": {
      "text/plain": [
       "0.4411764705882353"
      ]
     },
     "execution_count": 46,
     "metadata": {},
     "output_type": "execute_result"
    }
   ],
   "source": [
    "c / d"
   ]
  },
  {
   "cell_type": "code",
   "execution_count": 48,
   "id": "aea208d9-2f55-4481-96b6-d9de2b17fd84",
   "metadata": {},
   "outputs": [
    {
     "data": {
      "text/plain": [
       "2.2666666666666666"
      ]
     },
     "execution_count": 48,
     "metadata": {},
     "output_type": "execute_result"
    }
   ],
   "source": [
    "d / c"
   ]
  },
  {
   "cell_type": "markdown",
   "id": "d8bab207-22bf-4430-88d5-3c2eceae7240",
   "metadata": {},
   "source": [
    "### 2.2. Creating sentences and words using strings"
   ]
  },
  {
   "cell_type": "markdown",
   "id": "db6c4805-998c-43be-9e09-8da58c0df689",
   "metadata": {},
   "source": [
    "Construct a short word made of separate strings (you’ll need to concatenate some strings!)."
   ]
  },
  {
   "cell_type": "code",
   "execution_count": 50,
   "id": "c2d1cb0b-e09b-48a8-a9d4-00698b739dac",
   "metadata": {},
   "outputs": [],
   "source": [
    "e = 'bill'"
   ]
  },
  {
   "cell_type": "code",
   "execution_count": 52,
   "id": "fc4e59fd-9cad-4e6f-a203-be586876eea9",
   "metadata": {},
   "outputs": [],
   "source": [
    "f = 'board'"
   ]
  },
  {
   "cell_type": "code",
   "execution_count": 54,
   "id": "ff945813-5afe-4747-8647-b6915ad06ae3",
   "metadata": {},
   "outputs": [
    {
     "data": {
      "text/plain": [
       "'billboard'"
      ]
     },
     "execution_count": 54,
     "metadata": {},
     "output_type": "execute_result"
    }
   ],
   "source": [
    "e + f"
   ]
  },
  {
   "cell_type": "markdown",
   "id": "d2d0d945-0bc6-498d-999e-b93fd3e98755",
   "metadata": {},
   "source": [
    "Construct 2 short sentences made of separate strings."
   ]
  },
  {
   "cell_type": "code",
   "execution_count": 56,
   "id": "5f2e6650-abdc-44ca-b5e4-0907d23cba2d",
   "metadata": {},
   "outputs": [],
   "source": [
    "g = 'I '"
   ]
  },
  {
   "cell_type": "code",
   "execution_count": 58,
   "id": "3a226110-38c7-4a6b-a452-60998b81fdda",
   "metadata": {},
   "outputs": [],
   "source": [
    "h = 'saw '"
   ]
  },
  {
   "cell_type": "code",
   "execution_count": 60,
   "id": "3942c9e2-8be5-406f-bbbc-ee6cca47f468",
   "metadata": {},
   "outputs": [],
   "source": [
    "i = 'a '"
   ]
  },
  {
   "cell_type": "code",
   "execution_count": 62,
   "id": "c5846949-5fdb-4046-b296-29466632c3b2",
   "metadata": {},
   "outputs": [
    {
     "data": {
      "text/plain": [
       "'I saw a billboard'"
      ]
     },
     "execution_count": 62,
     "metadata": {},
     "output_type": "execute_result"
    }
   ],
   "source": [
    "g + h + i + e +f"
   ]
  },
  {
   "cell_type": "code",
   "execution_count": 64,
   "id": "217259d2-9fb7-468e-bc82-8f913adca2a6",
   "metadata": {},
   "outputs": [],
   "source": [
    "j = 'Yesterday, '"
   ]
  },
  {
   "cell_type": "code",
   "execution_count": 66,
   "id": "26aad797-5393-4f04-a590-d749d7a4439a",
   "metadata": {},
   "outputs": [],
   "source": [
    "k = 'it '"
   ]
  },
  {
   "cell_type": "code",
   "execution_count": 68,
   "id": "736014ab-07f8-40af-82bb-4dadbe30749b",
   "metadata": {},
   "outputs": [],
   "source": [
    "l = 'rained.'"
   ]
  },
  {
   "cell_type": "code",
   "execution_count": 70,
   "id": "c691329b-940f-4bd8-9562-5f47a4807ff6",
   "metadata": {},
   "outputs": [
    {
     "data": {
      "text/plain": [
       "'Yesterday, it rained.'"
      ]
     },
     "execution_count": 70,
     "metadata": {},
     "output_type": "execute_result"
    }
   ],
   "source": [
    "j + k + l"
   ]
  },
  {
   "cell_type": "markdown",
   "id": "5826cb69-12ad-4fac-b567-396b97a71d19",
   "metadata": {},
   "source": [
    "### 2.3. Bonus Task"
   ]
  },
  {
   "cell_type": "markdown",
   "id": "e9f7792e-f5bf-4230-bfa9-3f60c042750d",
   "metadata": {},
   "source": [
    "At the bottom of your file, include a command that makes a string appear 100 times."
   ]
  },
  {
   "cell_type": "code",
   "execution_count": 76,
   "id": "d21df642-7575-4290-8ae5-72d902061856",
   "metadata": {},
   "outputs": [
    {
     "data": {
      "text/plain": [
       "'Yesterday, Yesterday, Yesterday, Yesterday, Yesterday, Yesterday, Yesterday, Yesterday, Yesterday, Yesterday, Yesterday, Yesterday, Yesterday, Yesterday, Yesterday, Yesterday, Yesterday, Yesterday, Yesterday, Yesterday, Yesterday, Yesterday, Yesterday, Yesterday, Yesterday, Yesterday, Yesterday, Yesterday, Yesterday, Yesterday, Yesterday, Yesterday, Yesterday, Yesterday, Yesterday, Yesterday, Yesterday, Yesterday, Yesterday, Yesterday, Yesterday, Yesterday, Yesterday, Yesterday, Yesterday, Yesterday, Yesterday, Yesterday, Yesterday, Yesterday, Yesterday, Yesterday, Yesterday, Yesterday, Yesterday, Yesterday, Yesterday, Yesterday, Yesterday, Yesterday, Yesterday, Yesterday, Yesterday, Yesterday, Yesterday, Yesterday, Yesterday, Yesterday, Yesterday, Yesterday, Yesterday, Yesterday, Yesterday, Yesterday, Yesterday, Yesterday, Yesterday, Yesterday, Yesterday, Yesterday, Yesterday, Yesterday, Yesterday, Yesterday, Yesterday, Yesterday, Yesterday, Yesterday, Yesterday, Yesterday, Yesterday, Yesterday, Yesterday, Yesterday, Yesterday, Yesterday, Yesterday, Yesterday, Yesterday, Yesterday, '"
      ]
     },
     "execution_count": 76,
     "metadata": {},
     "output_type": "execute_result"
    }
   ],
   "source": [
    "# Bonus Task \n",
    "j*100"
   ]
  },
  {
   "cell_type": "code",
   "execution_count": null,
   "id": "41d1a761-d0d4-4e90-9c4f-267220835e16",
   "metadata": {},
   "outputs": [],
   "source": []
  }
 ],
 "metadata": {
  "kernelspec": {
   "display_name": "Python 3 (ipykernel)",
   "language": "python",
   "name": "python3"
  },
  "language_info": {
   "codemirror_mode": {
    "name": "ipython",
    "version": 3
   },
   "file_extension": ".py",
   "mimetype": "text/x-python",
   "name": "python",
   "nbconvert_exporter": "python",
   "pygments_lexer": "ipython3",
   "version": "3.12.7"
  }
 },
 "nbformat": 4,
 "nbformat_minor": 5
}
