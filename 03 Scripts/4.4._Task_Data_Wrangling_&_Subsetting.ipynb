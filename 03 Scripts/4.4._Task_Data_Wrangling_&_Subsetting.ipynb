{
 "cells": [
  {
   "cell_type": "markdown",
   "id": "1f86a01a-a5d5-4446-b7f4-adcac08567e2",
   "metadata": {},
   "source": [
    "# 4.4. TASK\n",
    "# Table of Contents\n",
    "## 1. Import libraries and data sets\n",
    "## 2. Data Wrangling Procedures\n",
    "## 3. Task directions\n",
    "### 3.1. Change df_ords identifier variable format\n",
    "### 3.2. Change variable name\n",
    "### 3.3. Frequency of order hours\n",
    "### 3.4. Create data dictionary and find matching value for department_id\n",
    "### 3.5. Subset for breakfast products\n",
    "### 3.6. Subset for products in the alcohol, deli, beverages and meat/seafood departments\n",
    "### 3.7. Number of rows of new df\n",
    "### 3.8. Information about user_id 1\n",
    "### 3.9. User_id 1 stats\n",
    "### 3.10. Export dataframes"
   ]
  },
  {
   "cell_type": "markdown",
   "id": "a3f54921-2f93-4633-9e6b-50b004e22d09",
   "metadata": {},
   "source": [
    "---"
   ]
  },
  {
   "cell_type": "markdown",
   "id": "5a048a4e-50fe-4d6f-9783-0c588e130ae1",
   "metadata": {},
   "source": [
    "## 1. Import libraries and data sets"
   ]
  },
  {
   "cell_type": "code",
   "execution_count": 2,
   "id": "82a840f8-27ef-4d44-90fb-9f824cf39887",
   "metadata": {},
   "outputs": [],
   "source": [
    "# Import libraries\n",
    "import pandas as pd\n",
    "import numpy as np\n",
    "import os"
   ]
  },
  {
   "cell_type": "code",
   "execution_count": 4,
   "id": "698cff9d-9fa2-4ea7-a02d-fe77927242b9",
   "metadata": {},
   "outputs": [],
   "source": [
    "# Create path\n",
    "path = r'/Users/mariliamachado/Documents/CareerFoundry/11-2024 Instacart Basket Analysis'"
   ]
  },
  {
   "cell_type": "code",
   "execution_count": 6,
   "id": "8ab774b6-5f00-4af5-8656-caf2e9cfd275",
   "metadata": {},
   "outputs": [],
   "source": [
    "# Import Orders data set\n",
    "df_ords = pd.read_csv(os.path.join(path, '02 Data', 'Original Data', 'orders.csv'), index_col = False)"
   ]
  },
  {
   "cell_type": "code",
   "execution_count": 8,
   "id": "faa0f8ae-ee4a-4c7d-b524-a94702530d68",
   "metadata": {},
   "outputs": [],
   "source": [
    "# Import Products data set\n",
    "df_prods = pd.read_csv(os.path.join(path, '02 Data', 'Original Data', 'products.csv'), index_col = False)"
   ]
  },
  {
   "cell_type": "markdown",
   "id": "a660439b-b7d3-4b6c-af40-39bad2637668",
   "metadata": {},
   "source": [
    "## 2. Data Wrangling Procedures"
   ]
  },
  {
   "cell_type": "code",
   "execution_count": 30,
   "id": "20c3adfd-bb84-4ee4-8a0c-f5598df4ef99",
   "metadata": {},
   "outputs": [],
   "source": [
    "# Drop eval_set column\n",
    "df_ords = df_ords.drop(columns = ['eval_set'])\n"
   ]
  },
  {
   "cell_type": "code",
   "execution_count": 14,
   "id": "ece2f5c4-555b-46c9-ad65-7783b5e1076c",
   "metadata": {},
   "outputs": [
    {
     "data": {
      "text/plain": [
       "days_since_prior_order\n",
       "30.0    369323\n",
       "7.0     320608\n",
       "6.0     240013\n",
       "4.0     221696\n",
       "3.0     217005\n",
       "5.0     214503\n",
       "NaN     206209\n",
       "2.0     193206\n",
       "8.0     181717\n",
       "1.0     145247\n",
       "9.0     118188\n",
       "14.0    100230\n",
       "10.0     95186\n",
       "13.0     83214\n",
       "11.0     80970\n",
       "12.0     76146\n",
       "0.0      67755\n",
       "15.0     66579\n",
       "16.0     46941\n",
       "21.0     45470\n",
       "17.0     39245\n",
       "20.0     38527\n",
       "18.0     35881\n",
       "19.0     34384\n",
       "22.0     32012\n",
       "28.0     26777\n",
       "23.0     23885\n",
       "27.0     22013\n",
       "24.0     20712\n",
       "25.0     19234\n",
       "29.0     19191\n",
       "26.0     19016\n",
       "Name: count, dtype: int64"
      ]
     },
     "execution_count": 14,
     "metadata": {},
     "output_type": "execute_result"
    }
   ],
   "source": [
    "# Check missing values of the days_since_prior_order column\n",
    "df_ords['days_since_prior_order'].value_counts(dropna = False)"
   ]
  },
  {
   "cell_type": "code",
   "execution_count": 16,
   "id": "dcd710f9-1507-440c-865c-c62f0d9e7946",
   "metadata": {},
   "outputs": [],
   "source": [
    "# Rename order_dow column\n",
    "df_ords.rename(columns = {'order_dow' : 'orders_day_of_week'}, inplace = True)"
   ]
  },
  {
   "cell_type": "code",
   "execution_count": 32,
   "id": "4c0a8a38-a49a-41f3-b59c-a833e777b4db",
   "metadata": {},
   "outputs": [
    {
     "data": {
      "text/html": [
       "<div>\n",
       "<style scoped>\n",
       "    .dataframe tbody tr th:only-of-type {\n",
       "        vertical-align: middle;\n",
       "    }\n",
       "\n",
       "    .dataframe tbody tr th {\n",
       "        vertical-align: top;\n",
       "    }\n",
       "\n",
       "    .dataframe thead th {\n",
       "        text-align: right;\n",
       "    }\n",
       "</style>\n",
       "<table border=\"1\" class=\"dataframe\">\n",
       "  <thead>\n",
       "    <tr style=\"text-align: right;\">\n",
       "      <th></th>\n",
       "      <th>order_id</th>\n",
       "      <th>user_id</th>\n",
       "      <th>order_number</th>\n",
       "      <th>orders_day_of_week</th>\n",
       "      <th>order_hour_of_day</th>\n",
       "      <th>days_since_prior_order</th>\n",
       "    </tr>\n",
       "  </thead>\n",
       "  <tbody>\n",
       "    <tr>\n",
       "      <th>0</th>\n",
       "      <td>2539329</td>\n",
       "      <td>1</td>\n",
       "      <td>1</td>\n",
       "      <td>2</td>\n",
       "      <td>8</td>\n",
       "      <td>NaN</td>\n",
       "    </tr>\n",
       "    <tr>\n",
       "      <th>1</th>\n",
       "      <td>2398795</td>\n",
       "      <td>1</td>\n",
       "      <td>2</td>\n",
       "      <td>3</td>\n",
       "      <td>7</td>\n",
       "      <td>15.0</td>\n",
       "    </tr>\n",
       "    <tr>\n",
       "      <th>2</th>\n",
       "      <td>473747</td>\n",
       "      <td>1</td>\n",
       "      <td>3</td>\n",
       "      <td>3</td>\n",
       "      <td>12</td>\n",
       "      <td>21.0</td>\n",
       "    </tr>\n",
       "    <tr>\n",
       "      <th>3</th>\n",
       "      <td>2254736</td>\n",
       "      <td>1</td>\n",
       "      <td>4</td>\n",
       "      <td>4</td>\n",
       "      <td>7</td>\n",
       "      <td>29.0</td>\n",
       "    </tr>\n",
       "    <tr>\n",
       "      <th>4</th>\n",
       "      <td>431534</td>\n",
       "      <td>1</td>\n",
       "      <td>5</td>\n",
       "      <td>4</td>\n",
       "      <td>15</td>\n",
       "      <td>28.0</td>\n",
       "    </tr>\n",
       "  </tbody>\n",
       "</table>\n",
       "</div>"
      ],
      "text/plain": [
       "  order_id  user_id  order_number  orders_day_of_week  order_hour_of_day  \\\n",
       "0  2539329        1             1                   2                  8   \n",
       "1  2398795        1             2                   3                  7   \n",
       "2   473747        1             3                   3                 12   \n",
       "3  2254736        1             4                   4                  7   \n",
       "4   431534        1             5                   4                 15   \n",
       "\n",
       "   days_since_prior_order  \n",
       "0                     NaN  \n",
       "1                    15.0  \n",
       "2                    21.0  \n",
       "3                    29.0  \n",
       "4                    28.0  "
      ]
     },
     "execution_count": 32,
     "metadata": {},
     "output_type": "execute_result"
    }
   ],
   "source": [
    "# Check if column name was changed\n",
    "df_ords.head()"
   ]
  },
  {
   "cell_type": "code",
   "execution_count": 20,
   "id": "b1e69e51-ec03-4b29-a605-007a66163c36",
   "metadata": {},
   "outputs": [],
   "source": [
    "# Change data type of order_id\n",
    "df_ords['order_id'] = df_ords['order_id'].astype('str')"
   ]
  },
  {
   "cell_type": "code",
   "execution_count": 22,
   "id": "f0533773-2de1-4a41-85f4-71ee6b23d705",
   "metadata": {},
   "outputs": [
    {
     "data": {
      "text/plain": [
       "dtype('O')"
      ]
     },
     "execution_count": 22,
     "metadata": {},
     "output_type": "execute_result"
    }
   ],
   "source": [
    "# Check if data type was changed\n",
    "df_ords['order_id'].dtype"
   ]
  },
  {
   "cell_type": "code",
   "execution_count": 26,
   "id": "f5fd839b-34b2-403f-8f3f-fddbd5fc6835",
   "metadata": {},
   "outputs": [],
   "source": [
    "# Import departments data set\n",
    "df_dep = pd.read_csv(os.path.join(path, '02 Data', 'Original Data', 'departments.csv'), index_col = False)"
   ]
  },
  {
   "cell_type": "code",
   "execution_count": 28,
   "id": "2b539326-453c-41e5-955a-922c91cdd88a",
   "metadata": {},
   "outputs": [
    {
     "data": {
      "text/html": [
       "<div>\n",
       "<style scoped>\n",
       "    .dataframe tbody tr th:only-of-type {\n",
       "        vertical-align: middle;\n",
       "    }\n",
       "\n",
       "    .dataframe tbody tr th {\n",
       "        vertical-align: top;\n",
       "    }\n",
       "\n",
       "    .dataframe thead th {\n",
       "        text-align: right;\n",
       "    }\n",
       "</style>\n",
       "<table border=\"1\" class=\"dataframe\">\n",
       "  <thead>\n",
       "    <tr style=\"text-align: right;\">\n",
       "      <th></th>\n",
       "      <th>department_id</th>\n",
       "      <th>1</th>\n",
       "      <th>2</th>\n",
       "      <th>3</th>\n",
       "      <th>4</th>\n",
       "      <th>5</th>\n",
       "      <th>6</th>\n",
       "      <th>7</th>\n",
       "      <th>8</th>\n",
       "      <th>9</th>\n",
       "      <th>...</th>\n",
       "      <th>12</th>\n",
       "      <th>13</th>\n",
       "      <th>14</th>\n",
       "      <th>15</th>\n",
       "      <th>16</th>\n",
       "      <th>17</th>\n",
       "      <th>18</th>\n",
       "      <th>19</th>\n",
       "      <th>20</th>\n",
       "      <th>21</th>\n",
       "    </tr>\n",
       "  </thead>\n",
       "  <tbody>\n",
       "    <tr>\n",
       "      <th>0</th>\n",
       "      <td>department</td>\n",
       "      <td>frozen</td>\n",
       "      <td>other</td>\n",
       "      <td>bakery</td>\n",
       "      <td>produce</td>\n",
       "      <td>alcohol</td>\n",
       "      <td>international</td>\n",
       "      <td>beverages</td>\n",
       "      <td>pets</td>\n",
       "      <td>dry goods pasta</td>\n",
       "      <td>...</td>\n",
       "      <td>meat seafood</td>\n",
       "      <td>pantry</td>\n",
       "      <td>breakfast</td>\n",
       "      <td>canned goods</td>\n",
       "      <td>dairy eggs</td>\n",
       "      <td>household</td>\n",
       "      <td>babies</td>\n",
       "      <td>snacks</td>\n",
       "      <td>deli</td>\n",
       "      <td>missing</td>\n",
       "    </tr>\n",
       "  </tbody>\n",
       "</table>\n",
       "<p>1 rows × 22 columns</p>\n",
       "</div>"
      ],
      "text/plain": [
       "  department_id       1      2       3        4        5              6  \\\n",
       "0    department  frozen  other  bakery  produce  alcohol  international   \n",
       "\n",
       "           7     8                9  ...            12      13         14  \\\n",
       "0  beverages  pets  dry goods pasta  ...  meat seafood  pantry  breakfast   \n",
       "\n",
       "             15          16         17      18      19    20       21  \n",
       "0  canned goods  dairy eggs  household  babies  snacks  deli  missing  \n",
       "\n",
       "[1 rows x 22 columns]"
      ]
     },
     "execution_count": 28,
     "metadata": {},
     "output_type": "execute_result"
    }
   ],
   "source": [
    "df_dep.head()"
   ]
  },
  {
   "cell_type": "code",
   "execution_count": 34,
   "id": "c3480905-ad3f-46f6-8e32-97e944f85a0e",
   "metadata": {},
   "outputs": [],
   "source": [
    "# Transposing departments data set\n",
    "df_dep_t = df_dep.T"
   ]
  },
  {
   "cell_type": "code",
   "execution_count": 36,
   "id": "2569e932-a550-4a81-8341-54a4805c0ee6",
   "metadata": {},
   "outputs": [
    {
     "data": {
      "text/html": [
       "<div>\n",
       "<style scoped>\n",
       "    .dataframe tbody tr th:only-of-type {\n",
       "        vertical-align: middle;\n",
       "    }\n",
       "\n",
       "    .dataframe tbody tr th {\n",
       "        vertical-align: top;\n",
       "    }\n",
       "\n",
       "    .dataframe thead th {\n",
       "        text-align: right;\n",
       "    }\n",
       "</style>\n",
       "<table border=\"1\" class=\"dataframe\">\n",
       "  <thead>\n",
       "    <tr style=\"text-align: right;\">\n",
       "      <th></th>\n",
       "      <th>0</th>\n",
       "    </tr>\n",
       "  </thead>\n",
       "  <tbody>\n",
       "    <tr>\n",
       "      <th>department_id</th>\n",
       "      <td>department</td>\n",
       "    </tr>\n",
       "    <tr>\n",
       "      <th>1</th>\n",
       "      <td>frozen</td>\n",
       "    </tr>\n",
       "    <tr>\n",
       "      <th>2</th>\n",
       "      <td>other</td>\n",
       "    </tr>\n",
       "    <tr>\n",
       "      <th>3</th>\n",
       "      <td>bakery</td>\n",
       "    </tr>\n",
       "    <tr>\n",
       "      <th>4</th>\n",
       "      <td>produce</td>\n",
       "    </tr>\n",
       "    <tr>\n",
       "      <th>5</th>\n",
       "      <td>alcohol</td>\n",
       "    </tr>\n",
       "    <tr>\n",
       "      <th>6</th>\n",
       "      <td>international</td>\n",
       "    </tr>\n",
       "    <tr>\n",
       "      <th>7</th>\n",
       "      <td>beverages</td>\n",
       "    </tr>\n",
       "    <tr>\n",
       "      <th>8</th>\n",
       "      <td>pets</td>\n",
       "    </tr>\n",
       "    <tr>\n",
       "      <th>9</th>\n",
       "      <td>dry goods pasta</td>\n",
       "    </tr>\n",
       "    <tr>\n",
       "      <th>10</th>\n",
       "      <td>bulk</td>\n",
       "    </tr>\n",
       "    <tr>\n",
       "      <th>11</th>\n",
       "      <td>personal care</td>\n",
       "    </tr>\n",
       "    <tr>\n",
       "      <th>12</th>\n",
       "      <td>meat seafood</td>\n",
       "    </tr>\n",
       "    <tr>\n",
       "      <th>13</th>\n",
       "      <td>pantry</td>\n",
       "    </tr>\n",
       "    <tr>\n",
       "      <th>14</th>\n",
       "      <td>breakfast</td>\n",
       "    </tr>\n",
       "    <tr>\n",
       "      <th>15</th>\n",
       "      <td>canned goods</td>\n",
       "    </tr>\n",
       "    <tr>\n",
       "      <th>16</th>\n",
       "      <td>dairy eggs</td>\n",
       "    </tr>\n",
       "    <tr>\n",
       "      <th>17</th>\n",
       "      <td>household</td>\n",
       "    </tr>\n",
       "    <tr>\n",
       "      <th>18</th>\n",
       "      <td>babies</td>\n",
       "    </tr>\n",
       "    <tr>\n",
       "      <th>19</th>\n",
       "      <td>snacks</td>\n",
       "    </tr>\n",
       "    <tr>\n",
       "      <th>20</th>\n",
       "      <td>deli</td>\n",
       "    </tr>\n",
       "    <tr>\n",
       "      <th>21</th>\n",
       "      <td>missing</td>\n",
       "    </tr>\n",
       "  </tbody>\n",
       "</table>\n",
       "</div>"
      ],
      "text/plain": [
       "                             0\n",
       "department_id       department\n",
       "1                       frozen\n",
       "2                        other\n",
       "3                       bakery\n",
       "4                      produce\n",
       "5                      alcohol\n",
       "6                international\n",
       "7                    beverages\n",
       "8                         pets\n",
       "9              dry goods pasta\n",
       "10                        bulk\n",
       "11               personal care\n",
       "12                meat seafood\n",
       "13                      pantry\n",
       "14                   breakfast\n",
       "15                canned goods\n",
       "16                  dairy eggs\n",
       "17                   household\n",
       "18                      babies\n",
       "19                      snacks\n",
       "20                        deli\n",
       "21                     missing"
      ]
     },
     "execution_count": 36,
     "metadata": {},
     "output_type": "execute_result"
    }
   ],
   "source": [
    "# Check if transposing worked\n",
    "df_dep_t"
   ]
  },
  {
   "cell_type": "code",
   "execution_count": 40,
   "id": "acb873e6-7edc-4a78-884a-f8d3e60bf89a",
   "metadata": {},
   "outputs": [
    {
     "data": {
      "text/html": [
       "<div>\n",
       "<style scoped>\n",
       "    .dataframe tbody tr th:only-of-type {\n",
       "        vertical-align: middle;\n",
       "    }\n",
       "\n",
       "    .dataframe tbody tr th {\n",
       "        vertical-align: top;\n",
       "    }\n",
       "\n",
       "    .dataframe thead th {\n",
       "        text-align: right;\n",
       "    }\n",
       "</style>\n",
       "<table border=\"1\" class=\"dataframe\">\n",
       "  <thead>\n",
       "    <tr style=\"text-align: right;\">\n",
       "      <th></th>\n",
       "      <th>index</th>\n",
       "      <th>0</th>\n",
       "    </tr>\n",
       "  </thead>\n",
       "  <tbody>\n",
       "    <tr>\n",
       "      <th>0</th>\n",
       "      <td>department_id</td>\n",
       "      <td>department</td>\n",
       "    </tr>\n",
       "    <tr>\n",
       "      <th>1</th>\n",
       "      <td>1</td>\n",
       "      <td>frozen</td>\n",
       "    </tr>\n",
       "    <tr>\n",
       "      <th>2</th>\n",
       "      <td>2</td>\n",
       "      <td>other</td>\n",
       "    </tr>\n",
       "    <tr>\n",
       "      <th>3</th>\n",
       "      <td>3</td>\n",
       "      <td>bakery</td>\n",
       "    </tr>\n",
       "    <tr>\n",
       "      <th>4</th>\n",
       "      <td>4</td>\n",
       "      <td>produce</td>\n",
       "    </tr>\n",
       "    <tr>\n",
       "      <th>5</th>\n",
       "      <td>5</td>\n",
       "      <td>alcohol</td>\n",
       "    </tr>\n",
       "    <tr>\n",
       "      <th>6</th>\n",
       "      <td>6</td>\n",
       "      <td>international</td>\n",
       "    </tr>\n",
       "    <tr>\n",
       "      <th>7</th>\n",
       "      <td>7</td>\n",
       "      <td>beverages</td>\n",
       "    </tr>\n",
       "    <tr>\n",
       "      <th>8</th>\n",
       "      <td>8</td>\n",
       "      <td>pets</td>\n",
       "    </tr>\n",
       "    <tr>\n",
       "      <th>9</th>\n",
       "      <td>9</td>\n",
       "      <td>dry goods pasta</td>\n",
       "    </tr>\n",
       "    <tr>\n",
       "      <th>10</th>\n",
       "      <td>10</td>\n",
       "      <td>bulk</td>\n",
       "    </tr>\n",
       "    <tr>\n",
       "      <th>11</th>\n",
       "      <td>11</td>\n",
       "      <td>personal care</td>\n",
       "    </tr>\n",
       "    <tr>\n",
       "      <th>12</th>\n",
       "      <td>12</td>\n",
       "      <td>meat seafood</td>\n",
       "    </tr>\n",
       "    <tr>\n",
       "      <th>13</th>\n",
       "      <td>13</td>\n",
       "      <td>pantry</td>\n",
       "    </tr>\n",
       "    <tr>\n",
       "      <th>14</th>\n",
       "      <td>14</td>\n",
       "      <td>breakfast</td>\n",
       "    </tr>\n",
       "    <tr>\n",
       "      <th>15</th>\n",
       "      <td>15</td>\n",
       "      <td>canned goods</td>\n",
       "    </tr>\n",
       "    <tr>\n",
       "      <th>16</th>\n",
       "      <td>16</td>\n",
       "      <td>dairy eggs</td>\n",
       "    </tr>\n",
       "    <tr>\n",
       "      <th>17</th>\n",
       "      <td>17</td>\n",
       "      <td>household</td>\n",
       "    </tr>\n",
       "    <tr>\n",
       "      <th>18</th>\n",
       "      <td>18</td>\n",
       "      <td>babies</td>\n",
       "    </tr>\n",
       "    <tr>\n",
       "      <th>19</th>\n",
       "      <td>19</td>\n",
       "      <td>snacks</td>\n",
       "    </tr>\n",
       "    <tr>\n",
       "      <th>20</th>\n",
       "      <td>20</td>\n",
       "      <td>deli</td>\n",
       "    </tr>\n",
       "    <tr>\n",
       "      <th>21</th>\n",
       "      <td>21</td>\n",
       "      <td>missing</td>\n",
       "    </tr>\n",
       "  </tbody>\n",
       "</table>\n",
       "</div>"
      ],
      "text/plain": [
       "            index                0\n",
       "0   department_id       department\n",
       "1               1           frozen\n",
       "2               2            other\n",
       "3               3           bakery\n",
       "4               4          produce\n",
       "5               5          alcohol\n",
       "6               6    international\n",
       "7               7        beverages\n",
       "8               8             pets\n",
       "9               9  dry goods pasta\n",
       "10             10             bulk\n",
       "11             11    personal care\n",
       "12             12     meat seafood\n",
       "13             13           pantry\n",
       "14             14        breakfast\n",
       "15             15     canned goods\n",
       "16             16       dairy eggs\n",
       "17             17        household\n",
       "18             18           babies\n",
       "19             19           snacks\n",
       "20             20             deli\n",
       "21             21          missing"
      ]
     },
     "execution_count": 40,
     "metadata": {},
     "output_type": "execute_result"
    }
   ],
   "source": [
    "# Add index\n",
    "df_dep_t.reset_index()"
   ]
  },
  {
   "cell_type": "code",
   "execution_count": 42,
   "id": "bb652eff-1d75-40dc-b8a8-ab302aeb9021",
   "metadata": {},
   "outputs": [],
   "source": [
    "new_header = df_dep_t.iloc[0]"
   ]
  },
  {
   "cell_type": "code",
   "execution_count": 46,
   "id": "1dfbcb70-4f43-415b-ae66-04526d870127",
   "metadata": {},
   "outputs": [],
   "source": [
    "# Take the data under the header row for a new df\n",
    "df_dep_t_new = df_dep_t[1:]"
   ]
  },
  {
   "cell_type": "code",
   "execution_count": 48,
   "id": "5a786058-d26f-48ad-8a61-13cf51b11f30",
   "metadata": {},
   "outputs": [
    {
     "data": {
      "text/html": [
       "<div>\n",
       "<style scoped>\n",
       "    .dataframe tbody tr th:only-of-type {\n",
       "        vertical-align: middle;\n",
       "    }\n",
       "\n",
       "    .dataframe tbody tr th {\n",
       "        vertical-align: top;\n",
       "    }\n",
       "\n",
       "    .dataframe thead th {\n",
       "        text-align: right;\n",
       "    }\n",
       "</style>\n",
       "<table border=\"1\" class=\"dataframe\">\n",
       "  <thead>\n",
       "    <tr style=\"text-align: right;\">\n",
       "      <th></th>\n",
       "      <th>0</th>\n",
       "    </tr>\n",
       "  </thead>\n",
       "  <tbody>\n",
       "    <tr>\n",
       "      <th>1</th>\n",
       "      <td>frozen</td>\n",
       "    </tr>\n",
       "    <tr>\n",
       "      <th>2</th>\n",
       "      <td>other</td>\n",
       "    </tr>\n",
       "    <tr>\n",
       "      <th>3</th>\n",
       "      <td>bakery</td>\n",
       "    </tr>\n",
       "    <tr>\n",
       "      <th>4</th>\n",
       "      <td>produce</td>\n",
       "    </tr>\n",
       "    <tr>\n",
       "      <th>5</th>\n",
       "      <td>alcohol</td>\n",
       "    </tr>\n",
       "    <tr>\n",
       "      <th>6</th>\n",
       "      <td>international</td>\n",
       "    </tr>\n",
       "    <tr>\n",
       "      <th>7</th>\n",
       "      <td>beverages</td>\n",
       "    </tr>\n",
       "    <tr>\n",
       "      <th>8</th>\n",
       "      <td>pets</td>\n",
       "    </tr>\n",
       "    <tr>\n",
       "      <th>9</th>\n",
       "      <td>dry goods pasta</td>\n",
       "    </tr>\n",
       "    <tr>\n",
       "      <th>10</th>\n",
       "      <td>bulk</td>\n",
       "    </tr>\n",
       "    <tr>\n",
       "      <th>11</th>\n",
       "      <td>personal care</td>\n",
       "    </tr>\n",
       "    <tr>\n",
       "      <th>12</th>\n",
       "      <td>meat seafood</td>\n",
       "    </tr>\n",
       "    <tr>\n",
       "      <th>13</th>\n",
       "      <td>pantry</td>\n",
       "    </tr>\n",
       "    <tr>\n",
       "      <th>14</th>\n",
       "      <td>breakfast</td>\n",
       "    </tr>\n",
       "    <tr>\n",
       "      <th>15</th>\n",
       "      <td>canned goods</td>\n",
       "    </tr>\n",
       "    <tr>\n",
       "      <th>16</th>\n",
       "      <td>dairy eggs</td>\n",
       "    </tr>\n",
       "    <tr>\n",
       "      <th>17</th>\n",
       "      <td>household</td>\n",
       "    </tr>\n",
       "    <tr>\n",
       "      <th>18</th>\n",
       "      <td>babies</td>\n",
       "    </tr>\n",
       "    <tr>\n",
       "      <th>19</th>\n",
       "      <td>snacks</td>\n",
       "    </tr>\n",
       "    <tr>\n",
       "      <th>20</th>\n",
       "      <td>deli</td>\n",
       "    </tr>\n",
       "    <tr>\n",
       "      <th>21</th>\n",
       "      <td>missing</td>\n",
       "    </tr>\n",
       "  </tbody>\n",
       "</table>\n",
       "</div>"
      ],
      "text/plain": [
       "                  0\n",
       "1            frozen\n",
       "2             other\n",
       "3            bakery\n",
       "4           produce\n",
       "5           alcohol\n",
       "6     international\n",
       "7         beverages\n",
       "8              pets\n",
       "9   dry goods pasta\n",
       "10             bulk\n",
       "11    personal care\n",
       "12     meat seafood\n",
       "13           pantry\n",
       "14        breakfast\n",
       "15     canned goods\n",
       "16       dairy eggs\n",
       "17        household\n",
       "18           babies\n",
       "19           snacks\n",
       "20             deli\n",
       "21          missing"
      ]
     },
     "execution_count": 48,
     "metadata": {},
     "output_type": "execute_result"
    }
   ],
   "source": [
    "df_dep_t_new"
   ]
  },
  {
   "cell_type": "code",
   "execution_count": 52,
   "id": "75517cdd-46aa-4af6-8c16-61330a6d78c0",
   "metadata": {},
   "outputs": [],
   "source": [
    "# set the header row as the df header\n",
    "df_dep_t_new.columns = new_header"
   ]
  },
  {
   "cell_type": "code",
   "execution_count": 54,
   "id": "ab118fee-09fb-47c4-8ce6-0b45eb2b5db3",
   "metadata": {},
   "outputs": [
    {
     "data": {
      "text/html": [
       "<div>\n",
       "<style scoped>\n",
       "    .dataframe tbody tr th:only-of-type {\n",
       "        vertical-align: middle;\n",
       "    }\n",
       "\n",
       "    .dataframe tbody tr th {\n",
       "        vertical-align: top;\n",
       "    }\n",
       "\n",
       "    .dataframe thead th {\n",
       "        text-align: right;\n",
       "    }\n",
       "</style>\n",
       "<table border=\"1\" class=\"dataframe\">\n",
       "  <thead>\n",
       "    <tr style=\"text-align: right;\">\n",
       "      <th>department_id</th>\n",
       "      <th>department</th>\n",
       "    </tr>\n",
       "  </thead>\n",
       "  <tbody>\n",
       "    <tr>\n",
       "      <th>1</th>\n",
       "      <td>frozen</td>\n",
       "    </tr>\n",
       "    <tr>\n",
       "      <th>2</th>\n",
       "      <td>other</td>\n",
       "    </tr>\n",
       "    <tr>\n",
       "      <th>3</th>\n",
       "      <td>bakery</td>\n",
       "    </tr>\n",
       "    <tr>\n",
       "      <th>4</th>\n",
       "      <td>produce</td>\n",
       "    </tr>\n",
       "    <tr>\n",
       "      <th>5</th>\n",
       "      <td>alcohol</td>\n",
       "    </tr>\n",
       "    <tr>\n",
       "      <th>6</th>\n",
       "      <td>international</td>\n",
       "    </tr>\n",
       "    <tr>\n",
       "      <th>7</th>\n",
       "      <td>beverages</td>\n",
       "    </tr>\n",
       "    <tr>\n",
       "      <th>8</th>\n",
       "      <td>pets</td>\n",
       "    </tr>\n",
       "    <tr>\n",
       "      <th>9</th>\n",
       "      <td>dry goods pasta</td>\n",
       "    </tr>\n",
       "    <tr>\n",
       "      <th>10</th>\n",
       "      <td>bulk</td>\n",
       "    </tr>\n",
       "    <tr>\n",
       "      <th>11</th>\n",
       "      <td>personal care</td>\n",
       "    </tr>\n",
       "    <tr>\n",
       "      <th>12</th>\n",
       "      <td>meat seafood</td>\n",
       "    </tr>\n",
       "    <tr>\n",
       "      <th>13</th>\n",
       "      <td>pantry</td>\n",
       "    </tr>\n",
       "    <tr>\n",
       "      <th>14</th>\n",
       "      <td>breakfast</td>\n",
       "    </tr>\n",
       "    <tr>\n",
       "      <th>15</th>\n",
       "      <td>canned goods</td>\n",
       "    </tr>\n",
       "    <tr>\n",
       "      <th>16</th>\n",
       "      <td>dairy eggs</td>\n",
       "    </tr>\n",
       "    <tr>\n",
       "      <th>17</th>\n",
       "      <td>household</td>\n",
       "    </tr>\n",
       "    <tr>\n",
       "      <th>18</th>\n",
       "      <td>babies</td>\n",
       "    </tr>\n",
       "    <tr>\n",
       "      <th>19</th>\n",
       "      <td>snacks</td>\n",
       "    </tr>\n",
       "    <tr>\n",
       "      <th>20</th>\n",
       "      <td>deli</td>\n",
       "    </tr>\n",
       "    <tr>\n",
       "      <th>21</th>\n",
       "      <td>missing</td>\n",
       "    </tr>\n",
       "  </tbody>\n",
       "</table>\n",
       "</div>"
      ],
      "text/plain": [
       "department_id       department\n",
       "1                       frozen\n",
       "2                        other\n",
       "3                       bakery\n",
       "4                      produce\n",
       "5                      alcohol\n",
       "6                international\n",
       "7                    beverages\n",
       "8                         pets\n",
       "9              dry goods pasta\n",
       "10                        bulk\n",
       "11               personal care\n",
       "12                meat seafood\n",
       "13                      pantry\n",
       "14                   breakfast\n",
       "15                canned goods\n",
       "16                  dairy eggs\n",
       "17                   household\n",
       "18                      babies\n",
       "19                      snacks\n",
       "20                        deli\n",
       "21                     missing"
      ]
     },
     "execution_count": 54,
     "metadata": {},
     "output_type": "execute_result"
    }
   ],
   "source": [
    "df_dep_t_new"
   ]
  },
  {
   "cell_type": "code",
   "execution_count": 56,
   "id": "a3ba3206-c2af-4289-8681-8501e5860046",
   "metadata": {},
   "outputs": [],
   "source": [
    "# Create data dictionary for departments\n",
    "data_dict = df_dep_t_new.to_dict('index')"
   ]
  },
  {
   "cell_type": "code",
   "execution_count": 58,
   "id": "7ab54dee-8af2-40c3-9d41-968580aea212",
   "metadata": {},
   "outputs": [
    {
     "data": {
      "text/html": [
       "<div>\n",
       "<style scoped>\n",
       "    .dataframe tbody tr th:only-of-type {\n",
       "        vertical-align: middle;\n",
       "    }\n",
       "\n",
       "    .dataframe tbody tr th {\n",
       "        vertical-align: top;\n",
       "    }\n",
       "\n",
       "    .dataframe thead th {\n",
       "        text-align: right;\n",
       "    }\n",
       "</style>\n",
       "<table border=\"1\" class=\"dataframe\">\n",
       "  <thead>\n",
       "    <tr style=\"text-align: right;\">\n",
       "      <th></th>\n",
       "      <th>product_id</th>\n",
       "      <th>product_name</th>\n",
       "      <th>aisle_id</th>\n",
       "      <th>department_id</th>\n",
       "      <th>prices</th>\n",
       "    </tr>\n",
       "  </thead>\n",
       "  <tbody>\n",
       "    <tr>\n",
       "      <th>0</th>\n",
       "      <td>1</td>\n",
       "      <td>Chocolate Sandwich Cookies</td>\n",
       "      <td>61</td>\n",
       "      <td>19</td>\n",
       "      <td>5.8</td>\n",
       "    </tr>\n",
       "    <tr>\n",
       "      <th>1</th>\n",
       "      <td>2</td>\n",
       "      <td>All-Seasons Salt</td>\n",
       "      <td>104</td>\n",
       "      <td>13</td>\n",
       "      <td>9.3</td>\n",
       "    </tr>\n",
       "    <tr>\n",
       "      <th>2</th>\n",
       "      <td>3</td>\n",
       "      <td>Robust Golden Unsweetened Oolong Tea</td>\n",
       "      <td>94</td>\n",
       "      <td>7</td>\n",
       "      <td>4.5</td>\n",
       "    </tr>\n",
       "    <tr>\n",
       "      <th>3</th>\n",
       "      <td>4</td>\n",
       "      <td>Smart Ones Classic Favorites Mini Rigatoni Wit...</td>\n",
       "      <td>38</td>\n",
       "      <td>1</td>\n",
       "      <td>10.5</td>\n",
       "    </tr>\n",
       "    <tr>\n",
       "      <th>4</th>\n",
       "      <td>5</td>\n",
       "      <td>Green Chile Anytime Sauce</td>\n",
       "      <td>5</td>\n",
       "      <td>13</td>\n",
       "      <td>4.3</td>\n",
       "    </tr>\n",
       "  </tbody>\n",
       "</table>\n",
       "</div>"
      ],
      "text/plain": [
       "   product_id                                       product_name  aisle_id  \\\n",
       "0           1                         Chocolate Sandwich Cookies        61   \n",
       "1           2                                   All-Seasons Salt       104   \n",
       "2           3               Robust Golden Unsweetened Oolong Tea        94   \n",
       "3           4  Smart Ones Classic Favorites Mini Rigatoni Wit...        38   \n",
       "4           5                          Green Chile Anytime Sauce         5   \n",
       "\n",
       "   department_id  prices  \n",
       "0             19     5.8  \n",
       "1             13     9.3  \n",
       "2              7     4.5  \n",
       "3              1    10.5  \n",
       "4             13     4.3  "
      ]
     },
     "execution_count": 58,
     "metadata": {},
     "output_type": "execute_result"
    }
   ],
   "source": [
    "df_prods.head()"
   ]
  },
  {
   "cell_type": "code",
   "execution_count": 60,
   "id": "203eeb7c-4b46-4ff6-802c-9448ead1ad46",
   "metadata": {},
   "outputs": [
    {
     "name": "stdout",
     "output_type": "stream",
     "text": [
      "{'department': 'snacks'}\n"
     ]
    }
   ],
   "source": [
    "print(data_dict.get('19'))\n"
   ]
  },
  {
   "cell_type": "code",
   "execution_count": 62,
   "id": "267fb2d7-6d4b-4f2c-bf7d-2f60cc9ddd02",
   "metadata": {},
   "outputs": [],
   "source": [
    "# Subset of snacks department in df_prods\n",
    "df_snacks =  df_prods[df_prods['department_id']==19]\n"
   ]
  },
  {
   "cell_type": "code",
   "execution_count": 64,
   "id": "4b4ae04f-d886-4e8a-a332-0e383cbb6420",
   "metadata": {},
   "outputs": [
    {
     "data": {
      "text/plain": [
       "0         True\n",
       "1        False\n",
       "2        False\n",
       "3        False\n",
       "4        False\n",
       "         ...  \n",
       "49688    False\n",
       "49689    False\n",
       "49690    False\n",
       "49691    False\n",
       "49692    False\n",
       "Name: department_id, Length: 49693, dtype: bool"
      ]
     },
     "execution_count": 64,
     "metadata": {},
     "output_type": "execute_result"
    }
   ],
   "source": [
    "df_prods['department_id']==19\n"
   ]
  },
  {
   "cell_type": "code",
   "execution_count": 66,
   "id": "8c61a32c-7d87-40e7-a116-b41e16986011",
   "metadata": {},
   "outputs": [],
   "source": [
    "# save df_snacks as dataframe\n",
    "df_snacks =  df_prods[df_prods['department_id']==19]\n"
   ]
  },
  {
   "cell_type": "code",
   "execution_count": 68,
   "id": "84df1a25-862c-4826-8e59-adc8abdc08cb",
   "metadata": {},
   "outputs": [
    {
     "data": {
      "text/html": [
       "<div>\n",
       "<style scoped>\n",
       "    .dataframe tbody tr th:only-of-type {\n",
       "        vertical-align: middle;\n",
       "    }\n",
       "\n",
       "    .dataframe tbody tr th {\n",
       "        vertical-align: top;\n",
       "    }\n",
       "\n",
       "    .dataframe thead th {\n",
       "        text-align: right;\n",
       "    }\n",
       "</style>\n",
       "<table border=\"1\" class=\"dataframe\">\n",
       "  <thead>\n",
       "    <tr style=\"text-align: right;\">\n",
       "      <th></th>\n",
       "      <th>product_id</th>\n",
       "      <th>product_name</th>\n",
       "      <th>aisle_id</th>\n",
       "      <th>department_id</th>\n",
       "      <th>prices</th>\n",
       "    </tr>\n",
       "  </thead>\n",
       "  <tbody>\n",
       "    <tr>\n",
       "      <th>0</th>\n",
       "      <td>1</td>\n",
       "      <td>Chocolate Sandwich Cookies</td>\n",
       "      <td>61</td>\n",
       "      <td>19</td>\n",
       "      <td>5.8</td>\n",
       "    </tr>\n",
       "    <tr>\n",
       "      <th>15</th>\n",
       "      <td>16</td>\n",
       "      <td>Mint Chocolate Flavored Syrup</td>\n",
       "      <td>103</td>\n",
       "      <td>19</td>\n",
       "      <td>5.2</td>\n",
       "    </tr>\n",
       "    <tr>\n",
       "      <th>24</th>\n",
       "      <td>25</td>\n",
       "      <td>Salted Caramel Lean Protein &amp; Fiber Bar</td>\n",
       "      <td>3</td>\n",
       "      <td>19</td>\n",
       "      <td>1.9</td>\n",
       "    </tr>\n",
       "    <tr>\n",
       "      <th>31</th>\n",
       "      <td>32</td>\n",
       "      <td>Nacho Cheese White Bean Chips</td>\n",
       "      <td>107</td>\n",
       "      <td>19</td>\n",
       "      <td>4.9</td>\n",
       "    </tr>\n",
       "    <tr>\n",
       "      <th>40</th>\n",
       "      <td>41</td>\n",
       "      <td>Organic Sourdough Einkorn Crackers Rosemary</td>\n",
       "      <td>78</td>\n",
       "      <td>19</td>\n",
       "      <td>6.5</td>\n",
       "    </tr>\n",
       "  </tbody>\n",
       "</table>\n",
       "</div>"
      ],
      "text/plain": [
       "    product_id                                 product_name  aisle_id  \\\n",
       "0            1                   Chocolate Sandwich Cookies        61   \n",
       "15          16                Mint Chocolate Flavored Syrup       103   \n",
       "24          25      Salted Caramel Lean Protein & Fiber Bar         3   \n",
       "31          32                Nacho Cheese White Bean Chips       107   \n",
       "40          41  Organic Sourdough Einkorn Crackers Rosemary        78   \n",
       "\n",
       "    department_id  prices  \n",
       "0              19     5.8  \n",
       "15             19     5.2  \n",
       "24             19     1.9  \n",
       "31             19     4.9  \n",
       "40             19     6.5  "
      ]
     },
     "execution_count": 68,
     "metadata": {},
     "output_type": "execute_result"
    }
   ],
   "source": [
    "df_snacks.head()"
   ]
  },
  {
   "cell_type": "code",
   "execution_count": 70,
   "id": "39e4d2c0-e5e7-48c7-b7de-8692d910b811",
   "metadata": {},
   "outputs": [],
   "source": [
    "# second method\n",
    "df_snacks_2 = df_prods.loc[df_prods['department_id'] == 19]\n"
   ]
  },
  {
   "cell_type": "code",
   "execution_count": 72,
   "id": "41c95568-ed7d-4e6f-82c2-0e73cd744156",
   "metadata": {},
   "outputs": [],
   "source": [
    "# third method\n",
    "df_snacks_3 = df_prods.loc[df_prods['department_id'].isin([19])]\n"
   ]
  },
  {
   "cell_type": "markdown",
   "id": "c4c0f9e9-e248-4032-a9f5-2760dea70e4f",
   "metadata": {},
   "source": [
    "## 3. Task directions"
   ]
  },
  {
   "cell_type": "markdown",
   "id": "176b9522-8550-4628-85d8-a5688cc18198",
   "metadata": {},
   "source": [
    "### 3.1. Change df_ords identifier variable format"
   ]
  },
  {
   "cell_type": "markdown",
   "id": "b35174d9-b2c4-45f6-8b58-a3040f505d41",
   "metadata": {},
   "source": [
    "2. Find another identifier variable in the df_ords dataframe that doesn’t need to be included in your analysis as a numeric variable and change it to a suitable format."
   ]
  },
  {
   "cell_type": "code",
   "execution_count": 115,
   "id": "238db6c4-24e2-4ba6-8672-69cdc9a624ed",
   "metadata": {},
   "outputs": [
    {
     "data": {
      "text/plain": [
       "order_id                   object\n",
       "user_id                     int64\n",
       "order_number                int64\n",
       "orders_day_of_week          int64\n",
       "order_hour_of_day           int64\n",
       "days_since_prior_order    float64\n",
       "dtype: object"
      ]
     },
     "execution_count": 115,
     "metadata": {},
     "output_type": "execute_result"
    }
   ],
   "source": [
    "# Check data set columns data types\n",
    "df_ords.dtypes"
   ]
  },
  {
   "cell_type": "code",
   "execution_count": 117,
   "id": "62687288-f4b7-4649-bd14-3125903708f7",
   "metadata": {},
   "outputs": [],
   "source": [
    "# Change user_id data type to string\n",
    "df_ords['user_id'] = df_ords['user_id'].astype('str')"
   ]
  },
  {
   "cell_type": "code",
   "execution_count": 119,
   "id": "89a79078-afec-4e95-bbd3-7f8a18fdb2af",
   "metadata": {},
   "outputs": [
    {
     "data": {
      "text/plain": [
       "order_id                   object\n",
       "user_id                    object\n",
       "order_number                int64\n",
       "orders_day_of_week          int64\n",
       "order_hour_of_day           int64\n",
       "days_since_prior_order    float64\n",
       "dtype: object"
      ]
     },
     "execution_count": 119,
     "metadata": {},
     "output_type": "execute_result"
    }
   ],
   "source": [
    "# Confirm the data type was changed\n",
    "df_ords.dtypes"
   ]
  },
  {
   "cell_type": "markdown",
   "id": "ebab1659-c599-4181-91e0-4fa087d1e242",
   "metadata": {},
   "source": [
    "### 3.2. Change variable name"
   ]
  },
  {
   "cell_type": "markdown",
   "id": "2505536a-f76a-49e4-8e73-df27513c6f9d",
   "metadata": {},
   "source": [
    "3. Look for a variable in your df_ords dataframe with an unintuitive name and change its name without overwriting the dataframe."
   ]
  },
  {
   "cell_type": "code",
   "execution_count": 121,
   "id": "64a251fb-cac1-4845-8898-87850e83d93d",
   "metadata": {},
   "outputs": [],
   "source": [
    "df_ords.rename(columns = {'order_hour_of_day' : 'order_time_hour'}, inplace = True)\n"
   ]
  },
  {
   "cell_type": "markdown",
   "id": "19df7fe0-c30c-4b38-afc5-4541fc3aaee2",
   "metadata": {},
   "source": [
    "### 3.3. Frequency of order hours"
   ]
  },
  {
   "cell_type": "markdown",
   "id": "343b7ac4-f2f0-462e-b7aa-e939a06cbdfe",
   "metadata": {},
   "source": [
    "4. Your client wants to know what the busiest hour is for placing orders. Find the frequency of the corresponding variable and share your findings."
   ]
  },
  {
   "cell_type": "code",
   "execution_count": 130,
   "id": "cd007d62-b5ca-4749-a5e4-8f1643ccc161",
   "metadata": {},
   "outputs": [
    {
     "data": {
      "text/plain": [
       "order_time_hour\n",
       "10    288418\n",
       "11    284728\n",
       "15    283639\n",
       "14    283042\n",
       "13    277999\n",
       "12    272841\n",
       "16    272553\n",
       "9     257812\n",
       "17    228795\n",
       "18    182912\n",
       "8     178201\n",
       "19    140569\n",
       "20    104292\n",
       "7      91868\n",
       "21     78109\n",
       "22     61468\n",
       "23     40043\n",
       "6      30529\n",
       "0      22758\n",
       "1      12398\n",
       "5       9569\n",
       "2       7539\n",
       "4       5527\n",
       "3       5474\n",
       "Name: count, dtype: int64"
      ]
     },
     "execution_count": 130,
     "metadata": {},
     "output_type": "execute_result"
    }
   ],
   "source": [
    "df_ords['order_time_hour'].value_counts(dropna = True)"
   ]
  },
  {
   "cell_type": "markdown",
   "id": "fc2c1dd8-4241-472b-bf86-9870e36a5aa0",
   "metadata": {},
   "source": [
    "The busiest hour is 10 am."
   ]
  },
  {
   "cell_type": "markdown",
   "id": "badf9af2-c3e9-4cb4-928d-be3a3e171584",
   "metadata": {},
   "source": [
    "### 3.4. Create data dictionary and find matching value for department_id"
   ]
  },
  {
   "cell_type": "markdown",
   "id": "5b39c052-fd55-451d-84cc-8d695dab54d6",
   "metadata": {},
   "source": [
    "5. Determine the meaning behind a value of 4 in the \"department_id\" column within the df_prods dataframe using a data dictionary.\n"
   ]
  },
  {
   "cell_type": "code",
   "execution_count": 141,
   "id": "02733ed1-f2d1-4d4a-bbec-a05e7c0642f3",
   "metadata": {},
   "outputs": [
    {
     "name": "stdout",
     "output_type": "stream",
     "text": [
      "{'department': 'produce'}\n"
     ]
    }
   ],
   "source": [
    "print(data_dict.get('4'))"
   ]
  },
  {
   "cell_type": "markdown",
   "id": "08080a20-dcc0-49a5-9343-9626afb9954c",
   "metadata": {},
   "source": [
    "I had already created the data dictionary previously, so I just checked what the value 4 referred to and the answer is produce."
   ]
  },
  {
   "cell_type": "markdown",
   "id": "84cb1ddc-40cc-4f4c-883c-e3e4614c484a",
   "metadata": {},
   "source": [
    "### 3.5. Subset for breakfast products"
   ]
  },
  {
   "cell_type": "markdown",
   "id": "4b07ece4-f6e3-47e6-b6f0-67038c8f5aa0",
   "metadata": {},
   "source": [
    "6. The sales team in your client’s organization wants to know more about breakfast item sales. Create a subset containing only the required information."
   ]
  },
  {
   "cell_type": "code",
   "execution_count": 145,
   "id": "0d651d8b-896f-40cd-8ed1-4e270e348e37",
   "metadata": {},
   "outputs": [],
   "source": [
    "#Breakfast subset (I checked the id for breakfast in previous steps of data wrangling)\n",
    "df_breakfast =  df_prods[df_prods['department_id']==14]"
   ]
  },
  {
   "cell_type": "code",
   "execution_count": 148,
   "id": "cae64389-f34f-4bdc-abc4-144237c52ea2",
   "metadata": {},
   "outputs": [
    {
     "data": {
      "text/html": [
       "<div>\n",
       "<style scoped>\n",
       "    .dataframe tbody tr th:only-of-type {\n",
       "        vertical-align: middle;\n",
       "    }\n",
       "\n",
       "    .dataframe tbody tr th {\n",
       "        vertical-align: top;\n",
       "    }\n",
       "\n",
       "    .dataframe thead th {\n",
       "        text-align: right;\n",
       "    }\n",
       "</style>\n",
       "<table border=\"1\" class=\"dataframe\">\n",
       "  <thead>\n",
       "    <tr style=\"text-align: right;\">\n",
       "      <th></th>\n",
       "      <th>product_id</th>\n",
       "      <th>product_name</th>\n",
       "      <th>aisle_id</th>\n",
       "      <th>department_id</th>\n",
       "      <th>prices</th>\n",
       "    </tr>\n",
       "  </thead>\n",
       "  <tbody>\n",
       "    <tr>\n",
       "      <th>27</th>\n",
       "      <td>28</td>\n",
       "      <td>Wheat Chex Cereal</td>\n",
       "      <td>121</td>\n",
       "      <td>14</td>\n",
       "      <td>10.1</td>\n",
       "    </tr>\n",
       "    <tr>\n",
       "      <th>33</th>\n",
       "      <td>34</td>\n",
       "      <td>NaN</td>\n",
       "      <td>121</td>\n",
       "      <td>14</td>\n",
       "      <td>12.2</td>\n",
       "    </tr>\n",
       "    <tr>\n",
       "      <th>67</th>\n",
       "      <td>68</td>\n",
       "      <td>Pancake Mix, Buttermilk</td>\n",
       "      <td>130</td>\n",
       "      <td>14</td>\n",
       "      <td>13.7</td>\n",
       "    </tr>\n",
       "    <tr>\n",
       "      <th>89</th>\n",
       "      <td>90</td>\n",
       "      <td>Smorz Cereal</td>\n",
       "      <td>121</td>\n",
       "      <td>14</td>\n",
       "      <td>3.9</td>\n",
       "    </tr>\n",
       "    <tr>\n",
       "      <th>210</th>\n",
       "      <td>211</td>\n",
       "      <td>Gluten Free Organic Cereal Coconut Maple Vanilla</td>\n",
       "      <td>130</td>\n",
       "      <td>14</td>\n",
       "      <td>3.6</td>\n",
       "    </tr>\n",
       "  </tbody>\n",
       "</table>\n",
       "</div>"
      ],
      "text/plain": [
       "     product_id                                      product_name  aisle_id  \\\n",
       "27           28                                 Wheat Chex Cereal       121   \n",
       "33           34                                               NaN       121   \n",
       "67           68                           Pancake Mix, Buttermilk       130   \n",
       "89           90                                      Smorz Cereal       121   \n",
       "210         211  Gluten Free Organic Cereal Coconut Maple Vanilla       130   \n",
       "\n",
       "     department_id  prices  \n",
       "27              14    10.1  \n",
       "33              14    12.2  \n",
       "67              14    13.7  \n",
       "89              14     3.9  \n",
       "210             14     3.6  "
      ]
     },
     "execution_count": 148,
     "metadata": {},
     "output_type": "execute_result"
    }
   ],
   "source": [
    "# Check if the subset is correct\n",
    "df_breakfast.head()"
   ]
  },
  {
   "cell_type": "markdown",
   "id": "7011fe85-d07b-43c2-b7ac-94d6206f023a",
   "metadata": {},
   "source": [
    "### 3.6. Subset for products in the alcohol, deli, beverages and meat/seafood departments"
   ]
  },
  {
   "cell_type": "markdown",
   "id": "d07acfe9-6d53-411c-9e7c-44f3b7d999df",
   "metadata": {},
   "source": [
    "7. They’d also like to see details about products that customers might use to throw dinner parties. Your task is to find all observations from the entire dataframe that include items from the following departments: alcohol, deli, beverages, and meat/seafood. You’ll need to present this subset to your client."
   ]
  },
  {
   "cell_type": "code",
   "execution_count": 150,
   "id": "b071b1d6-6815-4306-b6b8-2e087a57eec8",
   "metadata": {},
   "outputs": [],
   "source": [
    "# Create subset for dinner parties products (once again I checked the ids in previous steps)\n",
    "df_dinner_parties = df_prods.loc[df_prods['department_id'].isin([5,7,12,20])]"
   ]
  },
  {
   "cell_type": "code",
   "execution_count": 152,
   "id": "42849748-c7f9-4a06-b100-70f7ae2fe36c",
   "metadata": {},
   "outputs": [
    {
     "data": {
      "text/html": [
       "<div>\n",
       "<style scoped>\n",
       "    .dataframe tbody tr th:only-of-type {\n",
       "        vertical-align: middle;\n",
       "    }\n",
       "\n",
       "    .dataframe tbody tr th {\n",
       "        vertical-align: top;\n",
       "    }\n",
       "\n",
       "    .dataframe thead th {\n",
       "        text-align: right;\n",
       "    }\n",
       "</style>\n",
       "<table border=\"1\" class=\"dataframe\">\n",
       "  <thead>\n",
       "    <tr style=\"text-align: right;\">\n",
       "      <th></th>\n",
       "      <th>product_id</th>\n",
       "      <th>product_name</th>\n",
       "      <th>aisle_id</th>\n",
       "      <th>department_id</th>\n",
       "      <th>prices</th>\n",
       "    </tr>\n",
       "  </thead>\n",
       "  <tbody>\n",
       "    <tr>\n",
       "      <th>2</th>\n",
       "      <td>3</td>\n",
       "      <td>Robust Golden Unsweetened Oolong Tea</td>\n",
       "      <td>94</td>\n",
       "      <td>7</td>\n",
       "      <td>4.5</td>\n",
       "    </tr>\n",
       "    <tr>\n",
       "      <th>6</th>\n",
       "      <td>7</td>\n",
       "      <td>Pure Coconut Water With Orange</td>\n",
       "      <td>98</td>\n",
       "      <td>7</td>\n",
       "      <td>4.4</td>\n",
       "    </tr>\n",
       "    <tr>\n",
       "      <th>9</th>\n",
       "      <td>10</td>\n",
       "      <td>Sparkling Orange Juice &amp; Prickly Pear Beverage</td>\n",
       "      <td>115</td>\n",
       "      <td>7</td>\n",
       "      <td>8.4</td>\n",
       "    </tr>\n",
       "    <tr>\n",
       "      <th>10</th>\n",
       "      <td>11</td>\n",
       "      <td>Peach Mango Juice</td>\n",
       "      <td>31</td>\n",
       "      <td>7</td>\n",
       "      <td>2.8</td>\n",
       "    </tr>\n",
       "    <tr>\n",
       "      <th>16</th>\n",
       "      <td>17</td>\n",
       "      <td>Rendered Duck Fat</td>\n",
       "      <td>35</td>\n",
       "      <td>12</td>\n",
       "      <td>17.1</td>\n",
       "    </tr>\n",
       "    <tr>\n",
       "      <th>...</th>\n",
       "      <td>...</td>\n",
       "      <td>...</td>\n",
       "      <td>...</td>\n",
       "      <td>...</td>\n",
       "      <td>...</td>\n",
       "    </tr>\n",
       "    <tr>\n",
       "      <th>49676</th>\n",
       "      <td>49672</td>\n",
       "      <td>Cafe Mocha K-Cup Packs</td>\n",
       "      <td>26</td>\n",
       "      <td>7</td>\n",
       "      <td>6.5</td>\n",
       "    </tr>\n",
       "    <tr>\n",
       "      <th>49679</th>\n",
       "      <td>49675</td>\n",
       "      <td>Cinnamon Dolce Keurig Brewed K Cups</td>\n",
       "      <td>26</td>\n",
       "      <td>7</td>\n",
       "      <td>14.0</td>\n",
       "    </tr>\n",
       "    <tr>\n",
       "      <th>49680</th>\n",
       "      <td>49676</td>\n",
       "      <td>Ultra Red Energy Drink</td>\n",
       "      <td>64</td>\n",
       "      <td>7</td>\n",
       "      <td>14.5</td>\n",
       "    </tr>\n",
       "    <tr>\n",
       "      <th>49686</th>\n",
       "      <td>49682</td>\n",
       "      <td>California Limeade</td>\n",
       "      <td>98</td>\n",
       "      <td>7</td>\n",
       "      <td>4.3</td>\n",
       "    </tr>\n",
       "    <tr>\n",
       "      <th>49688</th>\n",
       "      <td>49684</td>\n",
       "      <td>Vodka, Triple Distilled, Twist of Vanilla</td>\n",
       "      <td>124</td>\n",
       "      <td>5</td>\n",
       "      <td>5.3</td>\n",
       "    </tr>\n",
       "  </tbody>\n",
       "</table>\n",
       "<p>7650 rows × 5 columns</p>\n",
       "</div>"
      ],
      "text/plain": [
       "       product_id                                    product_name  aisle_id  \\\n",
       "2               3            Robust Golden Unsweetened Oolong Tea        94   \n",
       "6               7                  Pure Coconut Water With Orange        98   \n",
       "9              10  Sparkling Orange Juice & Prickly Pear Beverage       115   \n",
       "10             11                               Peach Mango Juice        31   \n",
       "16             17                               Rendered Duck Fat        35   \n",
       "...           ...                                             ...       ...   \n",
       "49676       49672                          Cafe Mocha K-Cup Packs        26   \n",
       "49679       49675             Cinnamon Dolce Keurig Brewed K Cups        26   \n",
       "49680       49676                          Ultra Red Energy Drink        64   \n",
       "49686       49682                              California Limeade        98   \n",
       "49688       49684       Vodka, Triple Distilled, Twist of Vanilla       124   \n",
       "\n",
       "       department_id  prices  \n",
       "2                  7     4.5  \n",
       "6                  7     4.4  \n",
       "9                  7     8.4  \n",
       "10                 7     2.8  \n",
       "16                12    17.1  \n",
       "...              ...     ...  \n",
       "49676              7     6.5  \n",
       "49679              7    14.0  \n",
       "49680              7    14.5  \n",
       "49686              7     4.3  \n",
       "49688              5     5.3  \n",
       "\n",
       "[7650 rows x 5 columns]"
      ]
     },
     "execution_count": 152,
     "metadata": {},
     "output_type": "execute_result"
    }
   ],
   "source": [
    "# Check subset\n",
    "df_dinner_parties"
   ]
  },
  {
   "cell_type": "markdown",
   "id": "18fbe9fe-0a30-4809-99f1-3d80dcd6ad83",
   "metadata": {},
   "source": [
    "### 3.7. Number of rows of new df"
   ]
  },
  {
   "cell_type": "markdown",
   "id": "50c0d9d5-be12-4e37-a268-f66ea8f57bbe",
   "metadata": {},
   "source": [
    "8. It’s important that you keep track of total counts in your dataframes. How many rows does the last dataframe you created have?"
   ]
  },
  {
   "cell_type": "code",
   "execution_count": 155,
   "id": "06c1d463-bca4-4fc5-861c-e8ea1e00fbf9",
   "metadata": {},
   "outputs": [
    {
     "data": {
      "text/plain": [
       "(7650, 5)"
      ]
     },
     "execution_count": 155,
     "metadata": {},
     "output_type": "execute_result"
    }
   ],
   "source": [
    "df_dinner_parties.shape"
   ]
  },
  {
   "cell_type": "markdown",
   "id": "a122991c-e25f-407c-a73c-091b7e4a6fd2",
   "metadata": {},
   "source": [
    "The last dataframe has 7650 rows."
   ]
  },
  {
   "cell_type": "markdown",
   "id": "9ffcad44-b474-410c-93cc-0bb16fb3e207",
   "metadata": {},
   "source": [
    "### 3.8. Information about user_id 1"
   ]
  },
  {
   "cell_type": "markdown",
   "id": "c5e8d37b-7b57-4abc-be04-a278187a3af5",
   "metadata": {},
   "source": [
    "9. Someone from the data engineers team in Instacart thinks they’ve spotted something strange about the customer with a \"user_id\" of “1.” Extract all the information you can about this user."
   ]
  },
  {
   "cell_type": "code",
   "execution_count": 186,
   "id": "866b01a9-5551-4bb7-b23a-6460133b45b3",
   "metadata": {},
   "outputs": [],
   "source": [
    "df_user_1 = df_ords[df_ords['user_id'] == '1']"
   ]
  },
  {
   "cell_type": "code",
   "execution_count": 188,
   "id": "eee25d4b-899d-4bb6-a361-21e5122a25e4",
   "metadata": {},
   "outputs": [
    {
     "data": {
      "text/html": [
       "<div>\n",
       "<style scoped>\n",
       "    .dataframe tbody tr th:only-of-type {\n",
       "        vertical-align: middle;\n",
       "    }\n",
       "\n",
       "    .dataframe tbody tr th {\n",
       "        vertical-align: top;\n",
       "    }\n",
       "\n",
       "    .dataframe thead th {\n",
       "        text-align: right;\n",
       "    }\n",
       "</style>\n",
       "<table border=\"1\" class=\"dataframe\">\n",
       "  <thead>\n",
       "    <tr style=\"text-align: right;\">\n",
       "      <th></th>\n",
       "      <th>order_id</th>\n",
       "      <th>user_id</th>\n",
       "      <th>order_number</th>\n",
       "      <th>orders_day_of_week</th>\n",
       "      <th>order_time_hour</th>\n",
       "      <th>days_since_prior_order</th>\n",
       "    </tr>\n",
       "  </thead>\n",
       "  <tbody>\n",
       "    <tr>\n",
       "      <th>0</th>\n",
       "      <td>2539329</td>\n",
       "      <td>1</td>\n",
       "      <td>1</td>\n",
       "      <td>2</td>\n",
       "      <td>8</td>\n",
       "      <td>NaN</td>\n",
       "    </tr>\n",
       "    <tr>\n",
       "      <th>1</th>\n",
       "      <td>2398795</td>\n",
       "      <td>1</td>\n",
       "      <td>2</td>\n",
       "      <td>3</td>\n",
       "      <td>7</td>\n",
       "      <td>15.0</td>\n",
       "    </tr>\n",
       "    <tr>\n",
       "      <th>2</th>\n",
       "      <td>473747</td>\n",
       "      <td>1</td>\n",
       "      <td>3</td>\n",
       "      <td>3</td>\n",
       "      <td>12</td>\n",
       "      <td>21.0</td>\n",
       "    </tr>\n",
       "    <tr>\n",
       "      <th>3</th>\n",
       "      <td>2254736</td>\n",
       "      <td>1</td>\n",
       "      <td>4</td>\n",
       "      <td>4</td>\n",
       "      <td>7</td>\n",
       "      <td>29.0</td>\n",
       "    </tr>\n",
       "    <tr>\n",
       "      <th>4</th>\n",
       "      <td>431534</td>\n",
       "      <td>1</td>\n",
       "      <td>5</td>\n",
       "      <td>4</td>\n",
       "      <td>15</td>\n",
       "      <td>28.0</td>\n",
       "    </tr>\n",
       "    <tr>\n",
       "      <th>5</th>\n",
       "      <td>3367565</td>\n",
       "      <td>1</td>\n",
       "      <td>6</td>\n",
       "      <td>2</td>\n",
       "      <td>7</td>\n",
       "      <td>19.0</td>\n",
       "    </tr>\n",
       "    <tr>\n",
       "      <th>6</th>\n",
       "      <td>550135</td>\n",
       "      <td>1</td>\n",
       "      <td>7</td>\n",
       "      <td>1</td>\n",
       "      <td>9</td>\n",
       "      <td>20.0</td>\n",
       "    </tr>\n",
       "    <tr>\n",
       "      <th>7</th>\n",
       "      <td>3108588</td>\n",
       "      <td>1</td>\n",
       "      <td>8</td>\n",
       "      <td>1</td>\n",
       "      <td>14</td>\n",
       "      <td>14.0</td>\n",
       "    </tr>\n",
       "    <tr>\n",
       "      <th>8</th>\n",
       "      <td>2295261</td>\n",
       "      <td>1</td>\n",
       "      <td>9</td>\n",
       "      <td>1</td>\n",
       "      <td>16</td>\n",
       "      <td>0.0</td>\n",
       "    </tr>\n",
       "    <tr>\n",
       "      <th>9</th>\n",
       "      <td>2550362</td>\n",
       "      <td>1</td>\n",
       "      <td>10</td>\n",
       "      <td>4</td>\n",
       "      <td>8</td>\n",
       "      <td>30.0</td>\n",
       "    </tr>\n",
       "    <tr>\n",
       "      <th>10</th>\n",
       "      <td>1187899</td>\n",
       "      <td>1</td>\n",
       "      <td>11</td>\n",
       "      <td>4</td>\n",
       "      <td>8</td>\n",
       "      <td>14.0</td>\n",
       "    </tr>\n",
       "  </tbody>\n",
       "</table>\n",
       "</div>"
      ],
      "text/plain": [
       "   order_id user_id  order_number  orders_day_of_week  order_time_hour  \\\n",
       "0   2539329       1             1                   2                8   \n",
       "1   2398795       1             2                   3                7   \n",
       "2    473747       1             3                   3               12   \n",
       "3   2254736       1             4                   4                7   \n",
       "4    431534       1             5                   4               15   \n",
       "5   3367565       1             6                   2                7   \n",
       "6    550135       1             7                   1                9   \n",
       "7   3108588       1             8                   1               14   \n",
       "8   2295261       1             9                   1               16   \n",
       "9   2550362       1            10                   4                8   \n",
       "10  1187899       1            11                   4                8   \n",
       "\n",
       "    days_since_prior_order  \n",
       "0                      NaN  \n",
       "1                     15.0  \n",
       "2                     21.0  \n",
       "3                     29.0  \n",
       "4                     28.0  \n",
       "5                     19.0  \n",
       "6                     20.0  \n",
       "7                     14.0  \n",
       "8                      0.0  \n",
       "9                     30.0  \n",
       "10                    14.0  "
      ]
     },
     "execution_count": 188,
     "metadata": {},
     "output_type": "execute_result"
    }
   ],
   "source": [
    "df_user_1"
   ]
  },
  {
   "cell_type": "markdown",
   "id": "6aea1bf9-faa3-47d5-85b6-b459e82a136b",
   "metadata": {},
   "source": [
    "### 3.9. User_id 1 stats"
   ]
  },
  {
   "cell_type": "markdown",
   "id": "abe29480-125d-4b0a-8700-ba6bf3043b6d",
   "metadata": {},
   "source": [
    "10. You also need to provide some details about this user’s behavior. What basic stats can you provide based on the information you have?\n"
   ]
  },
  {
   "cell_type": "markdown",
   "id": "4e9ca25b-8b1f-4751-b660-16ddae85396a",
   "metadata": {},
   "source": [
    "This user made 11 orders in total, 4 of them in the 4th day of the week (Thursday) and more than half of their orders were done in the morning."
   ]
  },
  {
   "cell_type": "markdown",
   "id": "8ee6733c-8888-44e4-9717-194987e4ac89",
   "metadata": {},
   "source": [
    "11. Check the organization and structure of your notebook. Be sure to include section headings and code comments."
   ]
  },
  {
   "cell_type": "markdown",
   "id": "ac9ecced-a423-4afd-9ce8-328b1ab6db27",
   "metadata": {},
   "source": [
    "Done."
   ]
  },
  {
   "cell_type": "markdown",
   "id": "0f5f69b0-8b5b-4874-a4db-72b4a12aa297",
   "metadata": {},
   "source": [
    "### 3.10. Export dataframes"
   ]
  },
  {
   "cell_type": "markdown",
   "id": "ce3d5991-8faa-40e7-9be8-6d8a2c7797fb",
   "metadata": {},
   "source": [
    "12. Export your df_ords dataframe as “orders_wrangled.csv” in your “Prepared Data” folder."
   ]
  },
  {
   "cell_type": "code",
   "execution_count": 195,
   "id": "cc0180da-bd3d-4918-bcb2-90f9df240c97",
   "metadata": {},
   "outputs": [],
   "source": [
    "df_ords.to_csv(os.path.join(path, '02 Data','Prepared Data', 'orders_wrangled.csv'))"
   ]
  },
  {
   "cell_type": "markdown",
   "id": "bc5a7088-7059-4e8b-9b37-0d278ae5c5aa",
   "metadata": {},
   "source": [
    "13. Export the df_dep_t_new dataframe as “departments_wrangled.csv” in your “Prepared Data” folder so that you have a “.csv” file of your departments data in the correct format."
   ]
  },
  {
   "cell_type": "code",
   "execution_count": 198,
   "id": "ca323606-5305-4aba-9e50-6722c129b8a3",
   "metadata": {},
   "outputs": [],
   "source": [
    "df_dep_t_new.to_csv(os.path.join(path, '02 Data','Prepared Data', 'departments_wrangled.csv'))"
   ]
  },
  {
   "cell_type": "markdown",
   "id": "58989818-984a-4d65-ad7d-efbb99512fd7",
   "metadata": {},
   "source": [
    "14. Save your Jupyter notebook and submit it here for your tutor to review.\n",
    "Done"
   ]
  },
  {
   "cell_type": "code",
   "execution_count": null,
   "id": "bcb70aee-032b-4252-a175-5b45f6f4651d",
   "metadata": {},
   "outputs": [],
   "source": []
  }
 ],
 "metadata": {
  "kernelspec": {
   "display_name": "Python 3 (ipykernel)",
   "language": "python",
   "name": "python3"
  },
  "language_info": {
   "codemirror_mode": {
    "name": "ipython",
    "version": 3
   },
   "file_extension": ".py",
   "mimetype": "text/x-python",
   "name": "python",
   "nbconvert_exporter": "python",
   "pygments_lexer": "ipython3",
   "version": "3.12.7"
  }
 },
 "nbformat": 4,
 "nbformat_minor": 5
}
